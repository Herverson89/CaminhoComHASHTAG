{
 "cells": [
  {
   "cell_type": "markdown",
   "id": "7df0058c",
   "metadata": {},
   "source": [
    "### Exercícios de Lógica de Programação em Python"
   ]
  },
  {
   "cell_type": "code",
   "execution_count": 1,
   "id": "c3542514",
   "metadata": {},
   "outputs": [
    {
     "name": "stdout",
     "output_type": "stream",
     "text": [
      "Alo mundo\n"
     ]
    }
   ],
   "source": [
    "#1 Faça um Programa que mostre a mensagem \"Alo mundo\" na tela.\n",
    "print('Alo mundo')\n"
   ]
  },
  {
   "cell_type": "code",
   "execution_count": 2,
   "id": "27070da3",
   "metadata": {},
   "outputs": [
    {
     "name": "stdout",
     "output_type": "stream",
     "text": [
      "digite um numero: 5\n",
      "o numero digitado foi 5 \n"
     ]
    }
   ],
   "source": [
    "#2 Faça um Programa que peça um número e então mostre a mensagem O número informado foi [número].\n",
    "numero = input('digite um numero: ')\n",
    "print('o numero digitado foi {} '.format(numero))\n"
   ]
  },
  {
   "cell_type": "code",
   "execution_count": 3,
   "id": "2f83bfe8",
   "metadata": {},
   "outputs": [
    {
     "name": "stdout",
     "output_type": "stream",
     "text": [
      "digite um numero: 5\n",
      "digite outro numero: 5\n",
      "a soma do num1 5, com num2 5, foi de 10 \n"
     ]
    }
   ],
   "source": [
    "#3 Faça um Programa que peça dois números e imprima a soma.\n",
    "num1 = int(input('digite um numero: '))\n",
    "num2 = int(input('digite outro numero: '))\n",
    "soma = num1 + num2\n",
    "print('a soma do num1 {}, com num2 {}, foi de {} '.format(num1,num2,soma))\n"
   ]
  },
  {
   "cell_type": "code",
   "execution_count": 4,
   "id": "e63af072",
   "metadata": {},
   "outputs": [
    {
     "name": "stdout",
     "output_type": "stream",
     "text": [
      "digite a nota do 1b: 5\n",
      "digite a nota do 2b: 8\n",
      "digite a nota do 3b: 4\n",
      "digite a nota do 4b: 9\n",
      "a media foi de 6.5\n"
     ]
    }
   ],
   "source": [
    "#4 Faça um Programa que peça as 4 notas bimestrais e mostre a média.\n",
    "n1b = float(input('digite a nota do 1b: '))\n",
    "n2b = float(input('digite a nota do 2b: '))\n",
    "n3b = float(input('digite a nota do 3b: '))\n",
    "n4b = float(input('digite a nota do 4b: '))\n",
    "md = (n1b+n2b+n3b+n4b)/4\n",
    "print('a media foi de {}'.format(md))"
   ]
  },
  {
   "cell_type": "code",
   "execution_count": 15,
   "id": "ca8d5b5c",
   "metadata": {},
   "outputs": [
    {
     "name": "stdout",
     "output_type": "stream",
     "text": [
      "digite a metragem: 50\n",
      "valor do metros digitado foi de 50.0 m, convertido em centimetros foi de 5000 cm\n"
     ]
    }
   ],
   "source": [
    "# 5 Faça um Programa que converta metros para centímetros.\n",
    "metros = float(input('digite a metragem: '))\n",
    "centimetro = metros * 100\n",
    "print('valor do metros digitado foi de {} m, convertido em centimetros foi de {:.0f} cm'.format(metros,centimetro))"
   ]
  },
  {
   "cell_type": "code",
   "execution_count": 22,
   "id": "7efc5da7",
   "metadata": {},
   "outputs": [
    {
     "name": "stdout",
     "output_type": "stream",
     "text": [
      "informe o raio do circulo: 25\n",
      "A área é de: 1963.495375\n"
     ]
    }
   ],
   "source": [
    "# 6 Faça um Programa que peça o raio de um círculo, calcule e mostre sua área.\n",
    "raio = float(input('informe o raio do circulo: '))\n",
    "area = 3.1415926 * (raio * raio)\n",
    "print('A área é de: {}'.format(area))"
   ]
  },
  {
   "cell_type": "code",
   "execution_count": 1,
   "id": "cd4d3458",
   "metadata": {},
   "outputs": [
    {
     "name": "stdout",
     "output_type": "stream",
     "text": [
      "digite o valor do lado: 20\n",
      "O perímetro do quadrado é:  80.0\n",
      "are do quadrado é:  800.0\n"
     ]
    }
   ],
   "source": [
    "#Faça um Programa que calcule a área de um quadrado, em seguida mostre o dobro desta área para o usuário.\n",
    "lado = float(input('digite o valor do lado: '))\n",
    "perimetro = 4* lado\n",
    "\n",
    "print('O perímetro do quadrado é: ', perimetro)\n",
    "area = lado ** 2\n",
    "dobro = area *2\n",
    "print('are do quadrado é: ',dobro)"
   ]
  }
 ],
 "metadata": {
  "kernelspec": {
   "display_name": "Python 3 (ipykernel)",
   "language": "python",
   "name": "python3"
  },
  "language_info": {
   "codemirror_mode": {
    "name": "ipython",
    "version": 3
   },
   "file_extension": ".py",
   "mimetype": "text/x-python",
   "name": "python",
   "nbconvert_exporter": "python",
   "pygments_lexer": "ipython3",
   "version": "3.9.12"
  }
 },
 "nbformat": 4,
 "nbformat_minor": 5
}
